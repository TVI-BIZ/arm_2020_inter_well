{
  "nbformat": 4,
  "nbformat_minor": 0,
  "metadata": {
    "colab": {
      "name": "best_0512.ipynb",
      "provenance": [],
      "collapsed_sections": []
    },
    "kernelspec": {
      "display_name": "Python 3",
      "language": "python",
      "name": "python3"
    },
    "language_info": {
      "codemirror_mode": {
        "name": "ipython",
        "version": 3
      },
      "file_extension": ".py",
      "mimetype": "text/x-python",
      "name": "python",
      "nbconvert_exporter": "python",
      "pygments_lexer": "ipython3",
      "version": "3.7.7"
    }
  },
  "cells": [
    {
      "cell_type": "code",
      "metadata": {
        "colab": {
          "base_uri": "https://localhost:8080/"
        },
        "id": "Btb9G_Odk21r",
        "outputId": "9149bded-a3e3-49d5-8283-a1495e52f8e8"
      },
      "source": [
        "!pip install catboost"
      ],
      "execution_count": 1,
      "outputs": [
        {
          "output_type": "stream",
          "text": [
            "Collecting catboost\n",
            "\u001b[?25l  Downloading https://files.pythonhosted.org/packages/7e/c1/c1c4707013f9e2f8a96899dd3a87f66c9167d6d776a6dc8fe7ec8678d446/catboost-0.24.3-cp36-none-manylinux1_x86_64.whl (66.3MB)\n",
            "\u001b[K     |████████████████████████████████| 66.3MB 56kB/s \n",
            "\u001b[?25hRequirement already satisfied: numpy>=1.16.0 in /usr/local/lib/python3.6/dist-packages (from catboost) (1.18.5)\n",
            "Requirement already satisfied: pandas>=0.24.0 in /usr/local/lib/python3.6/dist-packages (from catboost) (1.1.4)\n",
            "Requirement already satisfied: graphviz in /usr/local/lib/python3.6/dist-packages (from catboost) (0.10.1)\n",
            "Requirement already satisfied: scipy in /usr/local/lib/python3.6/dist-packages (from catboost) (1.4.1)\n",
            "Requirement already satisfied: six in /usr/local/lib/python3.6/dist-packages (from catboost) (1.15.0)\n",
            "Requirement already satisfied: plotly in /usr/local/lib/python3.6/dist-packages (from catboost) (4.4.1)\n",
            "Requirement already satisfied: matplotlib in /usr/local/lib/python3.6/dist-packages (from catboost) (3.2.2)\n",
            "Requirement already satisfied: pytz>=2017.2 in /usr/local/lib/python3.6/dist-packages (from pandas>=0.24.0->catboost) (2018.9)\n",
            "Requirement already satisfied: python-dateutil>=2.7.3 in /usr/local/lib/python3.6/dist-packages (from pandas>=0.24.0->catboost) (2.8.1)\n",
            "Requirement already satisfied: retrying>=1.3.3 in /usr/local/lib/python3.6/dist-packages (from plotly->catboost) (1.3.3)\n",
            "Requirement already satisfied: kiwisolver>=1.0.1 in /usr/local/lib/python3.6/dist-packages (from matplotlib->catboost) (1.3.1)\n",
            "Requirement already satisfied: cycler>=0.10 in /usr/local/lib/python3.6/dist-packages (from matplotlib->catboost) (0.10.0)\n",
            "Requirement already satisfied: pyparsing!=2.0.4,!=2.1.2,!=2.1.6,>=2.0.1 in /usr/local/lib/python3.6/dist-packages (from matplotlib->catboost) (2.4.7)\n",
            "Installing collected packages: catboost\n",
            "Successfully installed catboost-0.24.3\n"
          ],
          "name": "stdout"
        }
      ]
    },
    {
      "cell_type": "code",
      "metadata": {
        "id": "i5fAWyBIbGTI"
      },
      "source": [
        "import pandas as pd\n",
        "import numpy as np\n",
        "from sklearn.model_selection import train_test_split\n",
        "from sklearn.ensemble import BaggingRegressor\n",
        "from sklearn.svm import SVR\n",
        "from sklearn.model_selection import cross_val_score\n",
        "from sklearn.metrics import mean_squared_error\n",
        "from sklearn.model_selection import cross_val_score\n",
        "from catboost import CatBoostRegressor\n",
        "from sklearn.ensemble import RandomForestRegressor"
      ],
      "execution_count": 2,
      "outputs": []
    },
    {
      "cell_type": "code",
      "metadata": {
        "colab": {
          "base_uri": "https://localhost:8080/"
        },
        "id": "7dD12Qt_k3g7",
        "outputId": "46baffe3-adae-4f97-fc73-7d9bc6ad08f5"
      },
      "source": [
        "# from google.colab import drive\n",
        "# drive.mount('/content/drive')\n"
      ],
      "execution_count": 3,
      "outputs": [
        {
          "output_type": "stream",
          "text": [
            "Mounted at /content/drive\n"
          ],
          "name": "stdout"
        }
      ]
    },
    {
      "cell_type": "code",
      "metadata": {
        "id": "nUCV-CihAaSQ"
      },
      "source": [
        ""
      ],
      "execution_count": null,
      "outputs": []
    },
    {
      "cell_type": "code",
      "metadata": {
        "id": "VrCu0pNPbGTN"
      },
      "source": [
        "# df = pd.read_csv('/content/drive/MyDrive/ara_wat/res_df.csv')\n",
        "df = pd.read_csv('data/res_df.csv')"
      ],
      "execution_count": 124,
      "outputs": []
    },
    {
      "cell_type": "code",
      "metadata": {
        "colab": {
          "base_uri": "https://localhost:8080/",
          "height": 202
        },
        "id": "eqzZ1CJ5bGTQ",
        "outputId": "f235f071-555f-4884-c2e5-6df0f75a893e"
      },
      "source": [
        "df.head()"
      ],
      "execution_count": 125,
      "outputs": [
        {
          "output_type": "execute_result",
          "data": {
            "text/html": [
              "<div>\n",
              "<style scoped>\n",
              "    .dataframe tbody tr th:only-of-type {\n",
              "        vertical-align: middle;\n",
              "    }\n",
              "\n",
              "    .dataframe tbody tr th {\n",
              "        vertical-align: top;\n",
              "    }\n",
              "\n",
              "    .dataframe thead th {\n",
              "        text-align: right;\n",
              "    }\n",
              "</style>\n",
              "<table border=\"1\" class=\"dataframe\">\n",
              "  <thead>\n",
              "    <tr style=\"text-align: right;\">\n",
              "      <th></th>\n",
              "      <th>Porosity</th>\n",
              "      <th>Resistivity</th>\n",
              "      <th>Water_Saturation</th>\n",
              "    </tr>\n",
              "  </thead>\n",
              "  <tbody>\n",
              "    <tr>\n",
              "      <th>0</th>\n",
              "      <td>0.12529</td>\n",
              "      <td>6.52</td>\n",
              "      <td>1.0</td>\n",
              "    </tr>\n",
              "    <tr>\n",
              "      <th>1</th>\n",
              "      <td>0.14511</td>\n",
              "      <td>6.52</td>\n",
              "      <td>1.0</td>\n",
              "    </tr>\n",
              "    <tr>\n",
              "      <th>2</th>\n",
              "      <td>0.14511</td>\n",
              "      <td>6.52</td>\n",
              "      <td>1.0</td>\n",
              "    </tr>\n",
              "    <tr>\n",
              "      <th>3</th>\n",
              "      <td>0.13481</td>\n",
              "      <td>8.00</td>\n",
              "      <td>1.0</td>\n",
              "    </tr>\n",
              "    <tr>\n",
              "      <th>4</th>\n",
              "      <td>0.13481</td>\n",
              "      <td>8.00</td>\n",
              "      <td>1.0</td>\n",
              "    </tr>\n",
              "  </tbody>\n",
              "</table>\n",
              "</div>"
            ],
            "text/plain": [
              "   Porosity  Resistivity  Water_Saturation\n",
              "0   0.12529         6.52               1.0\n",
              "1   0.14511         6.52               1.0\n",
              "2   0.14511         6.52               1.0\n",
              "3   0.13481         8.00               1.0\n",
              "4   0.13481         8.00               1.0"
            ]
          },
          "metadata": {
            "tags": []
          },
          "execution_count": 125
        }
      ]
    },
    {
      "cell_type": "code",
      "metadata": {
        "colab": {
          "base_uri": "https://localhost:8080/"
        },
        "id": "vcYlyOEnk3g7",
        "outputId": "592aa430-0f38-4458-e39e-02d709687742"
      },
      "source": [
        "#Crain's Method (1974)\n",
        "#RW@75F = (400000 / 75 / WS) ^ 0.88\n",
        "Rw_49F_35k = (400000/49/35000)**0.88  \n",
        "Rw_160F_35k = (400000/160/35000)**0.88\n",
        "Rw_49F_250k = (400000/7/250000)**0.88\n",
        "Rw_160F_250k = (400000/160/250000)**0.88\n",
        "\n",
        "print('Rw_49F_35k {}'.format(Rw_49F_35k))\n",
        "print('Rw_160F_35k {}'.format(Rw_160F_35k))\n",
        "print('Rw_49F_250k {}'.format(Rw_90F_250k))\n",
        "print('Rw_160F_250k {}'.format(Rw_160F_250k))"
      ],
      "execution_count": 280,
      "outputs": [
        {
          "output_type": "stream",
          "text": [
            "Rw_49F_35k 0.27775402614580247\n",
            "Rw_160F_35k 0.09804090886058128\n",
            "Rw_49F_250k 0.028833155650137263\n",
            "Rw_160F_250k 0.017378008287493755\n"
          ],
          "name": "stdout"
        }
      ]
    },
    {
      "cell_type": "code",
      "metadata": {
        "id": "9ypbXzdB5Xux"
      },
      "source": [
        "#Bateman and Konen Method (1977)\n",
        "#RW@75F = 0.0123 + (3647.5 / WS^0.955)\n",
        "#Rw_BK_49F_35k = (400000/49/35000)**0.88 "
      ],
      "execution_count": null,
      "outputs": []
    },
    {
      "cell_type": "code",
      "metadata": {
        "id": "mxeteOktk21t"
      },
      "source": [
        "import random\n",
        "random.seed(16) #12,close\n",
        "a = random.uniform(0.8, 1.1)\n",
        "m = random.uniform(1.6, 2.5)\n",
        "n = random.uniform(1.7, 2.1)\n",
        "rw = random.uniform(0.08, 0.12)\n",
        "\n",
        "df['Archie_model_rand'] = ((a/(df['Porosity']**m))*(rw/df['Resistivity']))**(1/n) #randomization\n",
        "df['Archie_model_sand_35'] = ((0.81/(df['Porosity']**1.7))*(Rw_49F_35k/df['Resistivity']))**(1/2.0) #sand\n",
        "df['Archie_model_rocks_35'] = ((0.81/(df['Porosity']**1.7))*(Rw_49F_35k/df['Resistivity']))**(1/1.8) #rocks\n",
        "\n",
        "#df['Archie_model_sand_250'] = ((0.81/(df['Porosity']**1.7))*(Rw_49F_250k/df['Resistivity']))**(1/2.0) #sand\n",
        "#df['Archie_model_rocks_250'] = ((0.81/(df['Porosity']**1.7))*(Rw_49F_250k/df['Resistivity']))**(1/1.8) #rocks\n",
        "\n",
        "df['Archie_model_rand'] = df['Archie_model_rand'].clip(0,1.0)\n",
        "df['Archie_model_sand_35'] = df['Archie_model_sand_35'].clip(0,1.0)\n",
        "df['Archie_model_rocks_35'] = df['Archie_model_rocks_35'].clip(0,1.0)\n",
        "\n",
        "#df['Archie_model_sand_250'] = df['Archie_model_sand_250'].clip(0,1.0)\n",
        "#df['Archie_model_rocks_250'] = df['Archie_model_rocks_250'].clip(0,1.0)"
      ],
      "execution_count": 295,
      "outputs": []
    },
    {
      "cell_type": "code",
      "metadata": {
        "colab": {
          "base_uri": "https://localhost:8080/",
          "height": 202
        },
        "id": "6rmTDxNnlOfz",
        "outputId": "c1e823f4-1804-4e04-f53f-e03a4a0bef72"
      },
      "source": [
        "df.head()"
      ],
      "execution_count": 284,
      "outputs": [
        {
          "output_type": "execute_result",
          "data": {
            "text/html": [
              "<div>\n",
              "<style scoped>\n",
              "    .dataframe tbody tr th:only-of-type {\n",
              "        vertical-align: middle;\n",
              "    }\n",
              "\n",
              "    .dataframe tbody tr th {\n",
              "        vertical-align: top;\n",
              "    }\n",
              "\n",
              "    .dataframe thead th {\n",
              "        text-align: right;\n",
              "    }\n",
              "</style>\n",
              "<table border=\"1\" class=\"dataframe\">\n",
              "  <thead>\n",
              "    <tr style=\"text-align: right;\">\n",
              "      <th></th>\n",
              "      <th>Porosity</th>\n",
              "      <th>Resistivity</th>\n",
              "      <th>Water_Saturation</th>\n",
              "      <th>Archie_model_sand_35</th>\n",
              "      <th>Archie_model_rocks_35</th>\n",
              "      <th>sand_diff_35</th>\n",
              "      <th>rock_diff_35</th>\n",
              "      <th>Archie_model_rand</th>\n",
              "    </tr>\n",
              "  </thead>\n",
              "  <tbody>\n",
              "    <tr>\n",
              "      <th>0</th>\n",
              "      <td>0.12529</td>\n",
              "      <td>6.52</td>\n",
              "      <td>1.0</td>\n",
              "      <td>1.000000</td>\n",
              "      <td>1.000000</td>\n",
              "      <td>0.006839</td>\n",
              "      <td>0.007596</td>\n",
              "      <td>0.961455</td>\n",
              "    </tr>\n",
              "    <tr>\n",
              "      <th>1</th>\n",
              "      <td>0.14511</td>\n",
              "      <td>6.52</td>\n",
              "      <td>1.0</td>\n",
              "      <td>0.958310</td>\n",
              "      <td>0.953787</td>\n",
              "      <td>0.123391</td>\n",
              "      <td>0.136125</td>\n",
              "      <td>0.819386</td>\n",
              "    </tr>\n",
              "    <tr>\n",
              "      <th>2</th>\n",
              "      <td>0.14511</td>\n",
              "      <td>6.52</td>\n",
              "      <td>1.0</td>\n",
              "      <td>0.958310</td>\n",
              "      <td>0.953787</td>\n",
              "      <td>0.123391</td>\n",
              "      <td>0.136125</td>\n",
              "      <td>0.819386</td>\n",
              "    </tr>\n",
              "    <tr>\n",
              "      <th>3</th>\n",
              "      <td>0.13481</td>\n",
              "      <td>8.00</td>\n",
              "      <td>1.0</td>\n",
              "      <td>0.921009</td>\n",
              "      <td>0.912627</td>\n",
              "      <td>0.157512</td>\n",
              "      <td>0.173405</td>\n",
              "      <td>0.795627</td>\n",
              "    </tr>\n",
              "    <tr>\n",
              "      <th>4</th>\n",
              "      <td>0.13481</td>\n",
              "      <td>8.00</td>\n",
              "      <td>1.0</td>\n",
              "      <td>0.921009</td>\n",
              "      <td>0.912627</td>\n",
              "      <td>0.157512</td>\n",
              "      <td>0.173405</td>\n",
              "      <td>0.795627</td>\n",
              "    </tr>\n",
              "  </tbody>\n",
              "</table>\n",
              "</div>"
            ],
            "text/plain": [
              "   Porosity  Resistivity  ...  rock_diff_35  Archie_model_rand\n",
              "0   0.12529         6.52  ...      0.007596           0.961455\n",
              "1   0.14511         6.52  ...      0.136125           0.819386\n",
              "2   0.14511         6.52  ...      0.136125           0.819386\n",
              "3   0.13481         8.00  ...      0.173405           0.795627\n",
              "4   0.13481         8.00  ...      0.173405           0.795627\n",
              "\n",
              "[5 rows x 8 columns]"
            ]
          },
          "metadata": {
            "tags": []
          },
          "execution_count": 284
        }
      ]
    },
    {
      "cell_type": "code",
      "metadata": {
        "id": "8rgVhjXek3g7"
      },
      "source": [
        "#df['rand_diff'] = df['Water_Saturation'] - df['Archie_model_rand'] \n",
        "df['sand_diff_35'] = ((df['Water_Saturation'] - df['Archie_model_sand_35'] )**2)**0.5\n",
        "df['rock_diff_35'] = ((df['Water_Saturation'] - df['Archie_model_rocks_35'] )**2)**0.5\n",
        "\n",
        "#df['sand_diff_250'] = df['Water_Saturation'] - df['Archie_model_sand_250'] \n",
        "#df['rock_diff_250'] = df['Water_Saturation'] - df['Archie_model_rocks_250'] "
      ],
      "execution_count": 285,
      "outputs": []
    },
    {
      "cell_type": "code",
      "metadata": {
        "colab": {
          "base_uri": "https://localhost:8080/"
        },
        "id": "xN1MUbPUk3g7",
        "outputId": "fc085384-40aa-44b9-95f0-b283e926520c"
      },
      "source": [
        "#print('Random_Model_diff - {}'.format(df['rand_diff'].sum()))\n",
        "print('Sand_Model_diff - {}'.format(df['sand_diff_35'].mean()))\n",
        "print('Rock_Model_diff - {}'.format(df['rock_diff_35'].mean()))\n",
        "\n",
        "#print('Sand_Model_diff - {}'.format(df['sand_diff_250'].sum()))\n",
        "#print('Rock_Model_diff - {}'.format(df['rock_diff_250'].sum()))"
      ],
      "execution_count": 286,
      "outputs": [
        {
          "output_type": "stream",
          "text": [
            "Sand_Model_diff - 0.22316570439842084\n",
            "Rock_Model_diff - 0.23050688861266158\n"
          ],
          "name": "stdout"
        }
      ]
    },
    {
      "cell_type": "markdown",
      "metadata": {
        "id": "YcFNZz7Ok3g8"
      },
      "source": [
        "##### We ckeck best parameter of water resistivity depends of water salinity and TDS if we not know water Ionic Compostion.We arbitrary take TDS of 35 000 ppm instead.Find best temperature for the minumum error between Ws real and based on Archie equation. We found that temperature is about 49F"
      ]
    },
    {
      "cell_type": "code",
      "metadata": {
        "colab": {
          "base_uri": "https://localhost:8080/"
        },
        "id": "ol-lfhpok3g8",
        "outputId": "412b3bdd-5b65-4a4c-820c-0a614054eae6"
      },
      "source": [
        "df.columns"
      ],
      "execution_count": 140,
      "outputs": [
        {
          "output_type": "execute_result",
          "data": {
            "text/plain": [
              "Index(['Porosity', 'Resistivity', 'Water_Saturation', 'Archie_model_sand_35',\n",
              "       'Archie_model_rocks_35', 'sand_diff_35', 'rock_diff_35',\n",
              "       'Archie_model_rand'],\n",
              "      dtype='object')"
            ]
          },
          "metadata": {
            "tags": []
          },
          "execution_count": 140
        }
      ]
    },
    {
      "cell_type": "code",
      "metadata": {
        "colab": {
          "base_uri": "https://localhost:8080/",
          "height": 202
        },
        "id": "dZbbCKHGk3g8",
        "outputId": "7aad47ed-ad6b-4e3b-d11d-ca8289611cf2"
      },
      "source": [
        "df_test  = df[['Porosity', 'Resistivity', 'Water_Saturation','Archie_model_sand_35','Archie_model_rocks_35','Archie_model_rand']]\n",
        "df_test.head()"
      ],
      "execution_count": 296,
      "outputs": [
        {
          "output_type": "execute_result",
          "data": {
            "text/html": [
              "<div>\n",
              "<style scoped>\n",
              "    .dataframe tbody tr th:only-of-type {\n",
              "        vertical-align: middle;\n",
              "    }\n",
              "\n",
              "    .dataframe tbody tr th {\n",
              "        vertical-align: top;\n",
              "    }\n",
              "\n",
              "    .dataframe thead th {\n",
              "        text-align: right;\n",
              "    }\n",
              "</style>\n",
              "<table border=\"1\" class=\"dataframe\">\n",
              "  <thead>\n",
              "    <tr style=\"text-align: right;\">\n",
              "      <th></th>\n",
              "      <th>Porosity</th>\n",
              "      <th>Resistivity</th>\n",
              "      <th>Water_Saturation</th>\n",
              "      <th>Archie_model_sand_35</th>\n",
              "      <th>Archie_model_rocks_35</th>\n",
              "      <th>Archie_model_rand</th>\n",
              "    </tr>\n",
              "  </thead>\n",
              "  <tbody>\n",
              "    <tr>\n",
              "      <th>0</th>\n",
              "      <td>0.12529</td>\n",
              "      <td>6.52</td>\n",
              "      <td>1.0</td>\n",
              "      <td>1.000000</td>\n",
              "      <td>1.000000</td>\n",
              "      <td>0.961455</td>\n",
              "    </tr>\n",
              "    <tr>\n",
              "      <th>1</th>\n",
              "      <td>0.14511</td>\n",
              "      <td>6.52</td>\n",
              "      <td>1.0</td>\n",
              "      <td>0.958310</td>\n",
              "      <td>0.953787</td>\n",
              "      <td>0.819386</td>\n",
              "    </tr>\n",
              "    <tr>\n",
              "      <th>2</th>\n",
              "      <td>0.14511</td>\n",
              "      <td>6.52</td>\n",
              "      <td>1.0</td>\n",
              "      <td>0.958310</td>\n",
              "      <td>0.953787</td>\n",
              "      <td>0.819386</td>\n",
              "    </tr>\n",
              "    <tr>\n",
              "      <th>3</th>\n",
              "      <td>0.13481</td>\n",
              "      <td>8.00</td>\n",
              "      <td>1.0</td>\n",
              "      <td>0.921009</td>\n",
              "      <td>0.912627</td>\n",
              "      <td>0.795627</td>\n",
              "    </tr>\n",
              "    <tr>\n",
              "      <th>4</th>\n",
              "      <td>0.13481</td>\n",
              "      <td>8.00</td>\n",
              "      <td>1.0</td>\n",
              "      <td>0.921009</td>\n",
              "      <td>0.912627</td>\n",
              "      <td>0.795627</td>\n",
              "    </tr>\n",
              "  </tbody>\n",
              "</table>\n",
              "</div>"
            ],
            "text/plain": [
              "   Porosity  Resistivity  ...  Archie_model_rocks_35  Archie_model_rand\n",
              "0   0.12529         6.52  ...               1.000000           0.961455\n",
              "1   0.14511         6.52  ...               0.953787           0.819386\n",
              "2   0.14511         6.52  ...               0.953787           0.819386\n",
              "3   0.13481         8.00  ...               0.912627           0.795627\n",
              "4   0.13481         8.00  ...               0.912627           0.795627\n",
              "\n",
              "[5 rows x 6 columns]"
            ]
          },
          "metadata": {
            "tags": []
          },
          "execution_count": 296
        }
      ]
    },
    {
      "cell_type": "code",
      "metadata": {
        "id": "oSE5WDkfk3g8"
      },
      "source": [
        ""
      ],
      "execution_count": 287,
      "outputs": []
    },
    {
      "cell_type": "code",
      "metadata": {
        "id": "5RR-B9dSbGTU"
      },
      "source": [
        "X = df_test.drop(['Water_Saturation'],axis=1)\n",
        "Y = df['Water_Saturation']"
      ],
      "execution_count": 288,
      "outputs": []
    },
    {
      "cell_type": "code",
      "metadata": {
        "id": "9NRowFw5k3g8"
      },
      "source": [
        "X_train,X_test,y_train,y_test = train_test_split(X,Y, test_size = 0.1,random_state=77)"
      ],
      "execution_count": 289,
      "outputs": []
    },
    {
      "cell_type": "code",
      "metadata": {
        "id": "COfycWAyk3g8"
      },
      "source": [
        "X_val, X_test, y_val, y_test = train_test_split(X_test, y_test, test_size=0.1,random_state=77) \n"
      ],
      "execution_count": 290,
      "outputs": []
    },
    {
      "cell_type": "markdown",
      "metadata": {
        "id": "60o0GQHZdOtZ"
      },
      "source": [
        "CatBoost Model."
      ]
    },
    {
      "cell_type": "code",
      "metadata": {
        "id": "_gKGhJOEbGTj"
      },
      "source": [
        "cr = CatBoostRegressor(iterations=3000, learning_rate=0.13, depth=12, random_seed=77, loss_function='RMSE', eval_metric='RMSE',verbose=0)"
      ],
      "execution_count": 297,
      "outputs": []
    },
    {
      "cell_type": "code",
      "metadata": {
        "colab": {
          "base_uri": "https://localhost:8080/"
        },
        "id": "h4qLemIPSMiZ",
        "outputId": "620dca1e-9c8b-4625-b4f4-12ba5317dfce"
      },
      "source": [
        "np.mean(cross_val_score(cr, X_test, y_test, cv=3, scoring='r2',verbose=0))\n",
        "cr.fit(X_train,y_train)"
      ],
      "execution_count": 298,
      "outputs": [
        {
          "output_type": "execute_result",
          "data": {
            "text/plain": [
              "<catboost.core.CatBoostRegressor at 0x7f3bba2c46d8>"
            ]
          },
          "metadata": {
            "tags": []
          },
          "execution_count": 298
        }
      ]
    },
    {
      "cell_type": "code",
      "metadata": {
        "id": "uXYsNcSEfk4a"
      },
      "source": [
        "#cr.fit(X_train,y_train)"
      ],
      "execution_count": null,
      "outputs": []
    },
    {
      "cell_type": "code",
      "metadata": {
        "colab": {
          "base_uri": "https://localhost:8080/"
        },
        "id": "ued_1VadXvRF",
        "outputId": "cf613e95-3cdc-441d-9062-f51bba3abf99"
      },
      "source": [
        "pred_cat = cr.predict(X_test) # clipped 49F Archie models sand,rock,random, cv=3, \n",
        "mean_squared_error(y_test, pred_cat)"
      ],
      "execution_count": 299,
      "outputs": [
        {
          "output_type": "execute_result",
          "data": {
            "text/plain": [
              "0.05269387404122507"
            ]
          },
          "metadata": {
            "tags": []
          },
          "execution_count": 299
        }
      ]
    },
    {
      "cell_type": "code",
      "metadata": {
        "colab": {
          "base_uri": "https://localhost:8080/"
        },
        "id": "Etcca5ypkis7",
        "outputId": "691eab45-b3bb-4c8c-ac96-d150c0549c8e"
      },
      "source": [
        "pred_cat = cr.predict(X_val) # clipped 49F Archie models sand,rock,random, cv=3, \n",
        "mean_squared_error(y_val, pred_cat)"
      ],
      "execution_count": 300,
      "outputs": [
        {
          "output_type": "execute_result",
          "data": {
            "text/plain": [
              "0.05288183928142254"
            ]
          },
          "metadata": {
            "tags": []
          },
          "execution_count": 300
        }
      ]
    },
    {
      "cell_type": "code",
      "metadata": {
        "colab": {
          "base_uri": "https://localhost:8080/",
          "height": 393
        },
        "id": "gkvPHQf47-UD",
        "outputId": "de569953-f4fe-470f-e254-a1e9d6ebb971"
      },
      "source": [
        "import seaborn as sns\n",
        "Corr=df_test.corr()\n",
        "sns.heatmap(Corr, annot=True, fmt='.2f')"
      ],
      "execution_count": 302,
      "outputs": [
        {
          "output_type": "execute_result",
          "data": {
            "text/plain": [
              "<matplotlib.axes._subplots.AxesSubplot at 0x7f3bb9a49518>"
            ]
          },
          "metadata": {
            "tags": []
          },
          "execution_count": 302
        },
        {
          "output_type": "display_data",
          "data": {
            "image/png": "[encoded data removed]",
            "text/plain": [
              "<Figure size 432x288 with 2 Axes>"
            ]
          },
          "metadata": {
            "tags": [],
            "needs_background": "light"
          }
        }
      ]
    },
    {
      "cell_type": "code",
      "metadata": {
        "colab": {
          "base_uri": "https://localhost:8080/",
          "height": 317
        },
        "id": "5Ac20CN-A3jS",
        "outputId": "5b1082bc-39b8-4012-9b86-0976393e37ea"
      },
      "source": [
        "Corr=df_test[['Porosity', 'Resistivity', 'Water_Saturation']].corr()\n",
        "sns.heatmap(Corr, annot=True, fmt='.2f')"
      ],
      "execution_count": 306,
      "outputs": [
        {
          "output_type": "execute_result",
          "data": {
            "text/plain": [
              "<matplotlib.axes._subplots.AxesSubplot at 0x7f3baf67c7b8>"
            ]
          },
          "metadata": {
            "tags": []
          },
          "execution_count": 306
        },
        {
          "output_type": "display_data",
          "data": {
            "image/png": "[encoded data removed]",
            "text/plain": [
              "<Figure size 432x288 with 2 Axes>"
            ]
          },
          "metadata": {
            "tags": [],
            "needs_background": "light"
          }
        }
      ]
    },
    {
      "cell_type": "code",
      "metadata": {
        "id": "u0jsGds-BED1"
      },
      "source": [
        ""
      ],
      "execution_count": null,
      "outputs": []
    }
  ]
}